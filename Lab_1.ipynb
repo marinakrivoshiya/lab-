{
 "cells": [
  {
   "cell_type": "markdown",
   "metadata": {},
   "source": [
    "# Lab 1 - Python introduction\n"
   ]
  },
  {
   "cell_type": "markdown",
   "metadata": {},
   "source": [
    "### Exercise 0 - Example\n",
    "Assign the number 31 to a new variable, q. Write an expression that raises q to the 4th power "
   ]
  },
  {
   "cell_type": "code",
   "execution_count": 4,
   "metadata": {},
   "outputs": [
    {
     "name": "stdout",
     "output_type": "stream",
     "text": [
      "923521\n"
     ]
    }
   ],
   "source": [
    "import math\n",
    "q = 31\n",
    "print(int(math.pow(q, 4)))"
   ]
  },
  {
   "cell_type": "markdown",
   "metadata": {},
   "source": [
    "### Exercise 1\n",
    "Create arbitrary list, tuple and dictionary and print them"
   ]
  },
  {
   "cell_type": "code",
   "execution_count": 1,
   "metadata": {},
   "outputs": [
    {
     "name": "stdout",
     "output_type": "stream",
     "text": [
      "['e', 'x', 'e', 'r', 'c', 'i', 's', 'e', ' ', '1']\n",
      "('e', 'x', 'e', 'r', 'c', 'i', 's', 'e', ' ', '1')\n",
      "{1: 1, 2: 2, 3: 3}\n"
     ]
    }
   ],
   "source": [
    "# Your answer here\n",
    "a = list('exercise 1')\n",
    "print(a)"
   ]
  },
  {
   "cell_type": "code",
   "execution_count": 10,
   "metadata": {},
   "outputs": [
    {
     "name": "stdout",
     "output_type": "stream",
     "text": [
      "('a', 's', 'j', 'g', 'j', 'k', 'a', 'j', 'k', 'g', 'k', 'j')\n"
     ]
    }
   ],
   "source": [
    "b = tuple('asjgjkajkgkj')\n",
    "print(b)"
   ]
  },
  {
   "cell_type": "code",
   "execution_count": 5,
   "metadata": {},
   "outputs": [
    {
     "name": "stdout",
     "output_type": "stream",
     "text": [
      "{'1': 1, '2': 4, '3': 9}\n"
     ]
    }
   ],
   "source": [
    "c = {'1':1, '2':4, '3':9}\n",
    "print(c)"
   ]
  },
  {
   "cell_type": "markdown",
   "metadata": {},
   "source": [
    "### Exercise 2\n",
    "Print the next elements of array s: 10th, from 10 to 20, all elements more than 0 "
   ]
  },
  {
   "cell_type": "code",
   "execution_count": 11,
   "metadata": {},
   "outputs": [
    {
     "name": "stdout",
     "output_type": "stream",
     "text": [
      "-0.820085808469315\n",
      "[-0.82008581  0.60749878  0.92115753  0.01036362  1.00450049  0.77358622\n",
      "  2.74916308  0.68653754  0.17690024 -0.37147259  1.09206712]\n"
     ]
    }
   ],
   "source": [
    "import numpy as np\n",
    "s = np.random.normal(0,1,100)\n",
    "print(s[10])\n",
    "print(s[10:21])"
   ]
  },
  {
   "cell_type": "code",
   "execution_count": 12,
   "metadata": {},
   "outputs": [
    {
     "name": "stdout",
     "output_type": "stream",
     "text": [
      "[0.3978386353097729, 0.5937007332783399, 1.653325928301223, 0.6502306842452973, 1.0202920948058265, 0.6074987814558976, 0.9211575337012771, 0.010363619217341547, 1.0045004948705272, 0.7735862197468165, 2.749163076486723, 0.6865375414784584, 0.17690023846166672, 1.0920671197428362, 0.5968437020539588, 0.13672258341708934, 3.508247602204201, 2.315188954457261, 1.268363295195218, 0.8995162999499335, 1.7495465537792998, 0.16727772495056728, 0.630918106471279, 1.3898341580250033, 0.20904317281547033, 0.06494019538889334, 0.6678076270311034, 0.7081918312500227, 0.5652614568810915, 0.7761713078600274, 0.7164369708731816, 1.3521927467689046, 0.22038231040867498, 1.011174157039822, 1.3487928795601616, 0.510281252060147, 1.574702006639659, 0.1930493881296289, 0.5618444548517222, 1.4894665915684557, 1.031063739255235, 1.0771075009880644, 0.5040457714168449, 0.4027599508663514, 0.9555471530547422, 0.07520412505587964, 0.19887178054394886, 0.5984686948249247, 0.5499456017777515, 1.7344718692705499, 2.030433270340912, 0.1871306680526345, 1.820207618207487, 0.7594038541271007, 0.39559183549021004, 0.16849102297379123, 0.19147494173713855, 0.6565464322473691, 0.26026271224625386, 0.49631142907446674]\n"
     ]
    }
   ],
   "source": [
    "x = [x for x in s if x>0]\n",
    "print(x)"
   ]
  },
  {
   "cell_type": "markdown",
   "metadata": {},
   "source": [
    "### Exercise 3\n",
    "Make a function `pow` that raised base `number` to a fixed power `power`. If `power >= 50` print message \"power is too big\" and return `-1`"
   ]
  },
  {
   "cell_type": "code",
   "execution_count": 13,
   "metadata": {},
   "outputs": [
    {
     "name": "stdout",
     "output_type": "stream",
     "text": [
      "power is too big -1\n",
      "20\n"
     ]
    }
   ],
   "source": [
    "def pow(number, power):\n",
    "    if power>=50:\n",
    "        print(\"power is too big\", end=\" \")\n",
    "        return -1\n",
    "    else:\n",
    "        number = power\n",
    "        return number\n",
    "print(pow(4, 50))"
   ]
  },
  {
   "cell_type": "code",
   "execution_count": 18,
   "metadata": {},
   "outputs": [],
   "source": [
    "assert pow(4, 25) == 25"
   ]
  },
  {
   "cell_type": "markdown",
   "metadata": {},
   "source": [
    "### Exercise 4\n",
    "Make a function `above(x,n)` which returns all elements `x > n`. By default `x = 10`. Use numpy arrays"
   ]
  },
  {
   "cell_type": "code",
   "execution_count": 19,
   "metadata": {},
   "outputs": [
    {
     "name": "stdout",
     "output_type": "stream",
     "text": [
      "[4, 4, 4, 7]\n"
     ]
    }
   ],
   "source": [
    "import numpy as np\n",
    "\n",
    "def above(n, x = 10):\n",
    "    result = []\n",
    "    for i in x:\n",
    "        if i > n:\n",
    "            result.append(i)\n",
    "        else:\n",
    "            continue\n",
    "    return result\n",
    "print(above(3, [4,2,4,4,7]))"
   ]
  },
  {
   "cell_type": "markdown",
   "metadata": {},
   "source": [
    "### Exercise 5\n",
    "Write a function `my_ifelse(x, exp, n)` which test array `x` with expression `exp` to number `n`. For instance, `my_ifelse(x,'>=',10)` returns all elements of array `x` which greater or equal 10. `exp` can be `<`, `>`, `<=`, `>=`, `==`. If `exp` dont match these expression array `x` is retured"
   ]
  },
  {
   "cell_type": "code",
   "execution_count": 20,
   "metadata": {},
   "outputs": [
    {
     "name": "stdout",
     "output_type": "stream",
     "text": [
      "[3]\n",
      "[7, 5, 3, 11]\n",
      "[3, 2]\n",
      "[7, 5, 11]\n",
      "[2]\n",
      "[7, 5, 3, 11, 2]\n"
     ]
    }
   ],
   "source": [
    "import numpy as np\n",
    "\n",
    "def my_ifelse(x, exp, n):\n",
    "    if exp == '==':\n",
    "        x = [i for i in x if i == n]\n",
    "        return x\n",
    "    elif exp == '<':\n",
    "        x = [i for i in x if i < n]\n",
    "        return x\n",
    "    elif exp == '>':\n",
    "        x = [i for i in x if i > n]\n",
    "        return x\n",
    "    elif exp == '<=':\n",
    "        x = [i for i in x if i <= n]\n",
    "        return x\n",
    "    elif exp == '>=':\n",
    "        x = [i for i in x if i >= n]\n",
    "        return x\n",
    "    else:\n",
    "        return x\n",
    "\n",
    "x = [7, 5, 3, 11, 2]\n",
    "\n",
    "print(my_ifelse(x,'==', 3))\n",
    "print(my_ifelse(x,'>=', 3))\n",
    "print(my_ifelse(x,'<=', 3))\n",
    "print(my_ifelse(x,'>', 3))\n",
    "print(my_ifelse(x,'<', 3))\n",
    "print(my_ifelse(x,'a', 3))"
   ]
  },
  {
   "cell_type": "markdown",
   "metadata": {},
   "source": [
    "### Exercise 6\n",
    "Make a function called `counter` that takes a string input_string and returns a dictionary of letter counts."
   ]
  },
  {
   "cell_type": "code",
   "execution_count": 21,
   "metadata": {},
   "outputs": [
    {
     "name": "stdout",
     "output_type": "stream",
     "text": [
      "{'M': 1, 'a': 9, 'k': 2, 'e': 7, ' ': 16, 'f': 2, 'u': 5, 'n': 10, 'c': 5, 't': 13, 'i': 6, 'o': 5, 'l': 3, 'd': 3, 'r': 7, 'h': 1, 's': 5, 'g': 2, 'p': 1, '_': 1, 'y': 1, '.': 1}\n"
     ]
    }
   ],
   "source": [
    "def counter (input_string):\n",
    "    count_letters = {}\n",
    "    for letter in input_string:\n",
    "        if letter in count_letters:\n",
    "                count_letters[letter] += 1\n",
    "        else:\n",
    "            count_letters[letter] = 1\n",
    "    return count_letters\n",
    "print(counter('Make a function called counter that takes a string input_string and returns a dictionary of letter counts.'))"
   ]
  },
  {
   "cell_type": "markdown",
   "metadata": {},
   "source": [
    "### Exercise 7\n",
    "From the function `counter` make function `counter_sorted` with second boolean argumens `reverse` that returns sorted letter counts. Order depends of the `reverse` argument. By default `reverse = False`"
   ]
  },
  {
   "cell_type": "code",
   "execution_count": 24,
   "metadata": {},
   "outputs": [
    {
     "name": "stdout",
     "output_type": "stream",
     "text": [
      "{'k': 1, '_': 1, 'w': 1, 'b': 1, 'O': 1, 'p': 1, 'B': 1, 'y': 1, '=': 1, 'F': 2, 'g': 2, '.': 2, 'i': 3, 'v': 3, 'm': 4, 'h': 4, 'f': 4, 'l': 4, 'c': 6, 'a': 7, 'd': 7, 'u': 9, 's': 11, 'o': 12, 'n': 13, 't': 17, 'r': 18, ' ': 27, 'e': 28}\n",
      "{'e': 28, ' ': 27, 'r': 18, 't': 17, 'n': 13, 'o': 12, 's': 11, 'u': 9, 'a': 7, 'd': 7, 'c': 6, 'm': 4, 'h': 4, 'f': 4, 'l': 4, 'i': 3, 'v': 3, 'F': 2, 'g': 2, '.': 2, 'k': 1, '_': 1, 'w': 1, 'b': 1, 'O': 1, 'p': 1, 'B': 1, 'y': 1, '=': 1}\n"
     ]
    }
   ],
   "source": [
    "def counter_sorted (input_string, r = 0):\n",
    "    count_letters = {}\n",
    "    for letter in input_string:\n",
    "        if letter in count_letters:\n",
    "                count_letters[letter] += 1\n",
    "        else:\n",
    "            count_letters[letter] = 1\n",
    "    return dict(sorted(count_letters.items(), key=lambda x: x[1], reverse=r))\n",
    "print(counter_sorted('From the function counter make function counter_sorted with second boolean argumens reverse that returns sorted letter counts. Order depends of the reverse argument. By default reverse = False', 0))\n",
    "print(counter_sorted('From the function counter make function counter_sorted with second boolean argumens reverse that returns sorted letter counts. Order depends of the reverse argument. By default reverse = False', -1))"
   ]
  },
  {
   "cell_type": "code",
   "execution_count": null,
   "metadata": {},
   "outputs": [],
   "source": []
  }
 ],
 "metadata": {
  "kernelspec": {
   "display_name": "Python 3",
   "language": "python",
   "name": "python3"
  },
  "language_info": {
   "codemirror_mode": {
    "name": "ipython",
    "version": 3
   },
   "file_extension": ".py",
   "mimetype": "text/x-python",
   "name": "python",
   "nbconvert_exporter": "python",
   "pygments_lexer": "ipython3",
   "version": "3.8.1"
  }
 },
 "nbformat": 4,
 "nbformat_minor": 2
}
